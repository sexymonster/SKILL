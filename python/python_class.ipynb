{
  "nbformat": 4,
  "nbformat_minor": 0,
  "metadata": {
    "colab": {
      "provenance": [],
      "authorship_tag": "ABX9TyOWJWnbQ7ucFCrJbeLOI2iI",
      "include_colab_link": true
    },
    "kernelspec": {
      "name": "python3",
      "display_name": "Python 3"
    },
    "language_info": {
      "name": "python"
    }
  },
  "cells": [
    {
      "cell_type": "markdown",
      "metadata": {
        "id": "view-in-github",
        "colab_type": "text"
      },
      "source": [
        "<a href=\"https://colab.research.google.com/github/sexymonster/SKILL/blob/main/python/python_class.ipynb\" target=\"_parent\"><img src=\"https://colab.research.google.com/assets/colab-badge.svg\" alt=\"Open In Colab\"/></a>"
      ]
    },
    {
      "cell_type": "code",
      "execution_count": 12,
      "metadata": {
        "id": "IlmJSs-gzyH1"
      },
      "outputs": [],
      "source": [
        "class FourCal:\n",
        "  def setdata(self, first, second):\n",
        "    self.first = first\n",
        "    self.second = second\n",
        "\n",
        "  def add(self):\n",
        "    result = self.first + self.second\n",
        "    return result\n",
        "  \n",
        "  def mul(self):\n",
        "    result = self.first * self.second\n",
        "    return result\n",
        "\n",
        "  def sub(self):\n",
        "    result = self.first - self.second\n",
        "    return result\n",
        "  \n",
        "  def div(self):\n",
        "    result = self.first / self.second\n",
        "    return result"
      ]
    },
    {
      "cell_type": "code",
      "source": [
        "a = FourCal()"
      ],
      "metadata": {
        "id": "BJUAcx220iwo"
      },
      "execution_count": 13,
      "outputs": []
    },
    {
      "cell_type": "code",
      "source": [
        "type(a)"
      ],
      "metadata": {
        "colab": {
          "base_uri": "https://localhost:8080/"
        },
        "id": "fgV0Sbpb0or0",
        "outputId": "88d62b54-2b92-4aea-8a5c-5edc2d01ae2f"
      },
      "execution_count": 14,
      "outputs": [
        {
          "output_type": "execute_result",
          "data": {
            "text/plain": [
              "__main__.FourCal"
            ]
          },
          "metadata": {},
          "execution_count": 14
        }
      ]
    },
    {
      "cell_type": "code",
      "source": [
        "a.setdata(4,2)\n",
        "# FourCal.setdata(a,4,2) 랑 같음"
      ],
      "metadata": {
        "id": "qlPVhaDK0pqn"
      },
      "execution_count": 15,
      "outputs": []
    },
    {
      "cell_type": "code",
      "source": [
        "a.add()"
      ],
      "metadata": {
        "colab": {
          "base_uri": "https://localhost:8080/"
        },
        "id": "t-DxFAH63D_V",
        "outputId": "4da58aba-593a-4335-e086-81ccf2857512"
      },
      "execution_count": 16,
      "outputs": [
        {
          "output_type": "execute_result",
          "data": {
            "text/plain": [
              "6"
            ]
          },
          "metadata": {},
          "execution_count": 16
        }
      ]
    },
    {
      "cell_type": "code",
      "source": [
        "a.sub()"
      ],
      "metadata": {
        "colab": {
          "base_uri": "https://localhost:8080/"
        },
        "id": "08wQmNNC67ae",
        "outputId": "71a75754-ba35-4028-c67d-536a692176d9"
      },
      "execution_count": 17,
      "outputs": [
        {
          "output_type": "execute_result",
          "data": {
            "text/plain": [
              "2"
            ]
          },
          "metadata": {},
          "execution_count": 17
        }
      ]
    },
    {
      "cell_type": "code",
      "source": [
        "a.mul()"
      ],
      "metadata": {
        "colab": {
          "base_uri": "https://localhost:8080/"
        },
        "id": "EPUzztVR7D6o",
        "outputId": "54f34c2c-7cea-401e-9680-15abc4c97f01"
      },
      "execution_count": 18,
      "outputs": [
        {
          "output_type": "execute_result",
          "data": {
            "text/plain": [
              "8"
            ]
          },
          "metadata": {},
          "execution_count": 18
        }
      ]
    },
    {
      "cell_type": "code",
      "source": [
        "a.div()"
      ],
      "metadata": {
        "colab": {
          "base_uri": "https://localhost:8080/"
        },
        "id": "HBmDUuQV7FfH",
        "outputId": "443a742c-a9c8-4b57-af3a-a83aa799677b"
      },
      "execution_count": 19,
      "outputs": [
        {
          "output_type": "execute_result",
          "data": {
            "text/plain": [
              "2.0"
            ]
          },
          "metadata": {},
          "execution_count": 19
        }
      ]
    },
    {
      "cell_type": "markdown",
      "source": [
        "__init__은  클래스가 호출되는 즉시 자동으로 호출됨"
      ],
      "metadata": {
        "id": "IB1fWl3U83AO"
      }
    },
    {
      "cell_type": "code",
      "source": [
        "class FourCal:\n",
        "  def __init__(self, first, second):\n",
        "    self.first = first\n",
        "    self.second = second\n",
        "\n",
        "  def add(self):\n",
        "    result = self.first + self.second\n",
        "    return result\n",
        "  \n",
        "  def mul(self):\n",
        "    result = self.first * self.second\n",
        "    return result\n",
        "\n",
        "  def sub(self):\n",
        "    result = self.first - self.second\n",
        "    return result\n",
        "  \n",
        "  def div(self):\n",
        "    result = self.first / self.second\n",
        "    return result"
      ],
      "metadata": {
        "id": "sDLXbK-_7HG9"
      },
      "execution_count": 23,
      "outputs": []
    },
    {
      "cell_type": "code",
      "source": [
        "a = FourCal(2,4)"
      ],
      "metadata": {
        "id": "6QOmAFrA8lWn"
      },
      "execution_count": 21,
      "outputs": []
    },
    {
      "cell_type": "code",
      "source": [
        "a.add()"
      ],
      "metadata": {
        "colab": {
          "base_uri": "https://localhost:8080/"
        },
        "id": "xA-KIdWw8zXX",
        "outputId": "64453ada-93a2-4b14-e7d6-cd09df9720a9"
      },
      "execution_count": 22,
      "outputs": [
        {
          "output_type": "execute_result",
          "data": {
            "text/plain": [
              "6"
            ]
          },
          "metadata": {},
          "execution_count": 22
        }
      ]
    },
    {
      "cell_type": "code",
      "source": [],
      "metadata": {
        "id": "1IgoXsLv80qj"
      },
      "execution_count": null,
      "outputs": []
    }
  ]
}