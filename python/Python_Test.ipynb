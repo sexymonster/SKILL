{
  "nbformat": 4,
  "nbformat_minor": 0,
  "metadata": {
    "colab": {
      "provenance": [],
      "collapsed_sections": [],
      "authorship_tag": "ABX9TyMvD3KK9mswdsDxhC3i8pYl",
      "include_colab_link": true
    },
    "kernelspec": {
      "name": "python3",
      "display_name": "Python 3"
    },
    "language_info": {
      "name": "python"
    }
  },
  "cells": [
    {
      "cell_type": "markdown",
      "metadata": {
        "id": "view-in-github",
        "colab_type": "text"
      },
      "source": [
        "<a href=\"https://colab.research.google.com/github/sexymonster/SKILL/blob/main/python/Python_Test.ipynb\" target=\"_parent\"><img src=\"https://colab.research.google.com/assets/colab-badge.svg\" alt=\"Open In Colab\"/></a>"
      ]
    },
    {
      "cell_type": "markdown",
      "source": [
        "# 두 큐 합 같게 만들기"
      ],
      "metadata": {
        "id": "ucTrTsqNWSdB"
      }
    },
    {
      "cell_type": "markdown",
      "source": [
        "문제 설명\n",
        "길이가 같은 두 개의 큐가 주어집니다. 하나의 큐를 골라 원소를 추출(pop)하고, 추출된 원소를 다른 큐에 집어넣는(insert) 작업을 통해 각 큐의 원소 합이 같도록 만들려고 합니다. 이때 필요한 작업의 최소 횟수를 구하고자 합니다. 한 번의 pop과 한 번의 insert를 합쳐서 작업을 1회 수행한 것으로 간주합니다.\n",
        "\n",
        "큐는 먼저 집어넣은 원소가 먼저 나오는 구조입니다. 이 문제에서는 큐를 배열로 표현하며, 원소가 배열 앞쪽에 있을수록 먼저 집어넣은 원소임을 의미합니다. 즉, pop을 하면 배열의 첫 번째 원소가 추출되며, insert를 하면 배열의 끝에 원소가 추가됩니다. 예를 들어 큐 [1, 2, 3, 4]가 주어졌을 때, pop을 하면 맨 앞에 있는 원소 1이 추출되어 [2, 3, 4]가 되며, 이어서 5를 insert하면 [2, 3, 4, 5]가 됩니다."
      ],
      "metadata": {
        "id": "6lKYTxs7WZ57"
      }
    },
    {
      "cell_type": "code",
      "execution_count": null,
      "metadata": {
        "id": "gJKPd0V7WK2G"
      },
      "outputs": [],
      "source": [
        "def solution(queue1, queue2):\n",
        "    answer = -1\n",
        "\n",
        "    a = queue1\n",
        "    b = queue2\n",
        "    \n",
        "    while sum(queue1) != sum(queue2):\n",
        "        if sum(queue1) > sum(queue2):\n",
        "            queue2.append(queue1[0])\n",
        "            queue1.pop(0)\n",
        "            answer += 1\n",
        "        elif sum(queue1) < sum(queue2):\n",
        "            queue1.append(queue2[0])\n",
        "            queue2.pop(0)\n",
        "            answer += 1\n",
        "    if sum(queue1) == sum(queue2):\n",
        "        answer += 1\n",
        "    return answer"
      ]
    },
    {
      "cell_type": "code",
      "source": [
        "a, b = [3,2,7,2], [4,6,5,1]\n",
        "c, d = [1,2,1,2], [1,10,1,2]\n",
        "e, f = [1,1], [1,5]\n",
        "# print(solution(e,f)) 이부분이 에러남\n",
        "solution(a,b), solution(c,d)"
      ],
      "metadata": {
        "colab": {
          "base_uri": "https://localhost:8080/"
        },
        "id": "NWPKHOSoWgiF",
        "outputId": "f165fac0-e126-48ed-9c00-53a694e8cd31"
      },
      "execution_count": null,
      "outputs": [
        {
          "output_type": "execute_result",
          "data": {
            "text/plain": [
              "(2, 7)"
            ]
          },
          "metadata": {},
          "execution_count": 5
        }
      ]
    },
    {
      "cell_type": "markdown",
      "source": [
        "# 멀쩡한 사각형"
      ],
      "metadata": {
        "id": "bad9wvjAAns9"
      }
    },
    {
      "cell_type": "markdown",
      "source": [
        "문제 설명\n",
        "\n",
        "가로 길이가 Wcm, 세로 길이가 Hcm인 직사각형 종이가 있습니다. 종이에는 가로, 세로 방향과 평행하게 격자 형태로 선이 그어져 있으며, 모든 격자칸은 1cm x 1cm 크기입니다. 이 종이를 격자 선을 따라 1cm × 1cm의 정사각형으로 잘라 사용할 예정이었는데, 누군가가 이 종이를 대각선 꼭지점 2개를 잇는 방향으로 잘라 놓았습니다. 그러므로 현재 직사각형 종이는 크기가 같은 직각삼각형 2개로 나누어진 상태입니다. 새로운 종이를 구할 수 없는 상태이기 때문에, 이 종이에서 원래 종이의 가로, 세로 방향과 평행하게 1cm × 1cm로 잘라 사용할 수 있는 만큼만 사용하기로 하였습니다.\n",
        "\n",
        "가로의 길이 W와 세로의 길이 H가 주어질 때, 사용할 수 있는 정사각형의 개수를 구하는 solution 함수를 완성해 주세요."
      ],
      "metadata": {
        "id": "I5ZeM-1bAsq_"
      }
    },
    {
      "cell_type": "code",
      "source": [
        "def solution(w,h):\n",
        "    answer = 1\n",
        "    number = 0\n",
        "    for i in range(1,w):\n",
        "        if w % i == 0 and h % i == 0:\n",
        "            number = i\n",
        "\n",
        "    a = w // number\n",
        "    b = h // number\n",
        "    delete = (a+b-1)*number\n",
        "    answer = w*h-delete\n",
        "\n",
        "    return answer"
      ],
      "metadata": {
        "id": "LzaohWAGArYR"
      },
      "execution_count": 1,
      "outputs": []
    },
    {
      "cell_type": "code",
      "source": [
        "solution(8,12)"
      ],
      "metadata": {
        "colab": {
          "base_uri": "https://localhost:8080/"
        },
        "id": "zvaBt23yA1ho",
        "outputId": "e36ece9b-56ed-4df1-c542-886a33594273"
      },
      "execution_count": 2,
      "outputs": [
        {
          "output_type": "execute_result",
          "data": {
            "text/plain": [
              "80"
            ]
          },
          "metadata": {},
          "execution_count": 2
        }
      ]
    }
  ]
}