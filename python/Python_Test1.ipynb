{
  "nbformat": 4,
  "nbformat_minor": 0,
  "metadata": {
    "colab": {
      "provenance": [],
      "collapsed_sections": [],
      "authorship_tag": "ABX9TyOMxLmWw4KDd2tNIKHq7A1W",
      "include_colab_link": true
    },
    "kernelspec": {
      "name": "python3",
      "display_name": "Python 3"
    },
    "language_info": {
      "name": "python"
    }
  },
  "cells": [
    {
      "cell_type": "markdown",
      "metadata": {
        "id": "view-in-github",
        "colab_type": "text"
      },
      "source": [
        "<a href=\"https://colab.research.google.com/github/sexymonster/SKILL/blob/main/python/Python_Test1.ipynb\" target=\"_parent\"><img src=\"https://colab.research.google.com/assets/colab-badge.svg\" alt=\"Open In Colab\"/></a>"
      ]
    },
    {
      "cell_type": "markdown",
      "source": [
        "# 두 큐 합 같게 만들기"
      ],
      "metadata": {
        "id": "ucTrTsqNWSdB"
      }
    },
    {
      "cell_type": "markdown",
      "source": [
        "문제 설명\n",
        "길이가 같은 두 개의 큐가 주어집니다. 하나의 큐를 골라 원소를 추출(pop)하고, 추출된 원소를 다른 큐에 집어넣는(insert) 작업을 통해 각 큐의 원소 합이 같도록 만들려고 합니다. 이때 필요한 작업의 최소 횟수를 구하고자 합니다. 한 번의 pop과 한 번의 insert를 합쳐서 작업을 1회 수행한 것으로 간주합니다.\n",
        "\n",
        "큐는 먼저 집어넣은 원소가 먼저 나오는 구조입니다. 이 문제에서는 큐를 배열로 표현하며, 원소가 배열 앞쪽에 있을수록 먼저 집어넣은 원소임을 의미합니다. 즉, pop을 하면 배열의 첫 번째 원소가 추출되며, insert를 하면 배열의 끝에 원소가 추가됩니다. 예를 들어 큐 [1, 2, 3, 4]가 주어졌을 때, pop을 하면 맨 앞에 있는 원소 1이 추출되어 [2, 3, 4]가 되며, 이어서 5를 insert하면 [2, 3, 4, 5]가 됩니다."
      ],
      "metadata": {
        "id": "6lKYTxs7WZ57"
      }
    },
    {
      "cell_type": "code",
      "execution_count": 1,
      "metadata": {
        "id": "gJKPd0V7WK2G"
      },
      "outputs": [],
      "source": [
        "def solution(queue1, queue2):\n",
        "    answer = -1\n",
        "\n",
        "    a = queue1\n",
        "    b = queue2\n",
        "    \n",
        "    while sum(queue1) != sum(queue2):\n",
        "        if sum(queue1) > sum(queue2):\n",
        "            queue2.append(queue1[0])\n",
        "            queue1.pop(0)\n",
        "            answer += 1\n",
        "        elif sum(queue1) < sum(queue2):\n",
        "            queue1.append(queue2[0])\n",
        "            queue2.pop(0)\n",
        "            answer += 1\n",
        "    if sum(queue1) == sum(queue2):\n",
        "        answer += 1\n",
        "    return answer"
      ]
    },
    {
      "cell_type": "code",
      "source": [
        "a, b = [3,2,7,2], [4,6,5,1]\n",
        "c, d = [1,2,1,2], [1,10,1,2]\n",
        "e, f = [1,1], [1,5]\n",
        "# print(solution(e,f)) 이부분이 에러남\n",
        "solution(a,b), solution(c,d)"
      ],
      "metadata": {
        "colab": {
          "base_uri": "https://localhost:8080/"
        },
        "id": "NWPKHOSoWgiF",
        "outputId": "f165fac0-e126-48ed-9c00-53a694e8cd31"
      },
      "execution_count": 5,
      "outputs": [
        {
          "output_type": "execute_result",
          "data": {
            "text/plain": [
              "(2, 7)"
            ]
          },
          "metadata": {},
          "execution_count": 5
        }
      ]
    }
  ]
}