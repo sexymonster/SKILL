{
  "nbformat": 4,
  "nbformat_minor": 0,
  "metadata": {
    "colab": {
      "name": "python_part1.ipynb",
      "provenance": [],
      "collapsed_sections": [],
      "toc_visible": true,
      "authorship_tag": "ABX9TyPzTn8bdkelsSHFR8mP5yxQ",
      "include_colab_link": true
    },
    "kernelspec": {
      "name": "python3",
      "display_name": "Python 3"
    },
    "language_info": {
      "name": "python"
    }
  },
  "cells": [
    {
      "cell_type": "markdown",
      "metadata": {
        "id": "view-in-github",
        "colab_type": "text"
      },
      "source": [
        "<a href=\"https://colab.research.google.com/github/sexymonster/SKILL/blob/main/python/python_part1.ipynb\" target=\"_parent\"><img src=\"https://colab.research.google.com/assets/colab-badge.svg\" alt=\"Open In Colab\"/></a>"
      ]
    },
    {
      "cell_type": "markdown",
      "source": [
        "# 0장. 파이썬"
      ],
      "metadata": {
        "id": "XLD1JBCzFPAV"
      }
    },
    {
      "cell_type": "markdown",
      "source": [
        "파이썬은 초보 프로그래머가 어려운 문법에 허우적거리게 만들지 않고 프로그래밍의 핵심적인 개념을 정말 쉽게 배울 수 있게 만드는 훌륭한 언어라고 한다. 하지만 내가 파이썬을 시작한 진짜 이유는 인공지능에 대한 공부를 하기 위해서이다.\n",
        "\n",
        "그리고 나는 여기서 내가 가장 먼저 배웠던 언어인 파이썬을 복습하려한다.\n",
        "\n",
        "자세하게 쓸려면 끝도 없을거 같아 내가 나중에 찾아 볼 만한 자료들로 채우겠다."
      ],
      "metadata": {
        "id": "ZKh20iqRFYmC"
      }
    },
    {
      "cell_type": "markdown",
      "source": [
        "# 1장. 자료형"
      ],
      "metadata": {
        "id": "P4k25jklI0bO"
      }
    },
    {
      "cell_type": "markdown",
      "source": [
        " \"그 언어의 자료형을 알고 이해할 수 있다면 이미 그 언어의 절반을 터득한 것이나 다름없다\""
      ],
      "metadata": {
        "id": "9jXn7t1LI28H"
      }
    },
    {
      "cell_type": "markdown",
      "source": [
        "## 1-1. 숫자형"
      ],
      "metadata": {
        "id": "YY3_Xk9hJ5gN"
      }
    },
    {
      "cell_type": "markdown",
      "source": [
        "### 1-1-1. 정수형"
      ],
      "metadata": {
        "id": "aMqXGNG2JEt5"
      }
    },
    {
      "cell_type": "code",
      "execution_count": 1,
      "metadata": {
        "id": "iGyfPMcVFHZs"
      },
      "outputs": [],
      "source": [
        "a = 123\n",
        "b = -193\n",
        "c = 0"
      ]
    },
    {
      "cell_type": "markdown",
      "source": [
        "### 1-1-2. 실수형"
      ],
      "metadata": {
        "id": "TdNVqbLyJL2y"
      }
    },
    {
      "cell_type": "code",
      "source": [
        "a = 1.2\n",
        "b = -3.14\n",
        "\n",
        "c = 3.14E10  # 3.14*10^(10)\n",
        "d = 3.14e-10 # 3.14*10^(-10)"
      ],
      "metadata": {
        "id": "1m6eZXpsJKSX"
      },
      "execution_count": 2,
      "outputs": []
    },
    {
      "cell_type": "markdown",
      "source": [
        "### 1-1-3. 연산자"
      ],
      "metadata": {
        "id": "sMqhO5arKDXm"
      }
    },
    {
      "cell_type": "code",
      "source": [
        "a=7\n",
        "b=3\n",
        "\n",
        "print(\"7 + 3 = \",a+b)\n",
        "print(\"7 - 3 = \",a-b)\n",
        "print(\"7 * 3 = \",a*b)\n",
        "print(\"7 / 3 = \",a/b)\n",
        "print(\"7 // 3 = \",a//b)\n",
        "print(\"7 % 3 = \",a%b)\n",
        "print(\"7 ** 3 = \",a**b)"
      ],
      "metadata": {
        "colab": {
          "base_uri": "https://localhost:8080/"
        },
        "id": "rdgX52upJrnX",
        "outputId": "6f4345d6-646e-4458-9532-761fe735f11e"
      },
      "execution_count": 5,
      "outputs": [
        {
          "output_type": "stream",
          "name": "stdout",
          "text": [
            "7 + 3 =  10\n",
            "7 - 3 =  4\n",
            "7 * 3 =  21\n",
            "7 / 3 =  2.3333333333333335\n",
            "7 // 3 =  2\n",
            "7 % 3 =  1\n",
            "7 ** 3 =  343\n"
          ]
        }
      ]
    },
    {
      "cell_type": "markdown",
      "source": [
        "## 1-2. 문자열 자료형"
      ],
      "metadata": {
        "id": "U8vTWl3ALtz1"
      }
    },
    {
      "cell_type": "markdown",
      "source": [
        "### 1-2-1. 문자열"
      ],
      "metadata": {
        "id": "q6rI6fWgOxTe"
      }
    },
    {
      "cell_type": "code",
      "source": [
        "# 문장속에 따옴표를 넣고 싶으면 문장을 큰따옴표로 둘러싸면됨\n",
        "food = \"Python's favorit food is perl.\"\n",
        "print(food)\n",
        "\n",
        "# 마찬가지로 문장속에 큰따옴표를 넣고 싶으면 문장을 따옴표로 둘러싸면됨\n",
        "say = '\"Python is very easy.\" he says.'\n",
        "print(say)\n",
        "\n",
        "#아니면 백슬래시를 사용\n",
        "food = 'Python\\'s favorit food is perl.'\n",
        "print(food)\n",
        "say = \"\\\"Python is very easy.\\\" he says.\"\n",
        "print(say)\n",
        "\n",
        "# 여러 줄인 문자열을 변수에 대입하고 싶으면 따옴표를 3개 사용함\n",
        "multiline = '''\n",
        "Life is too short\n",
        "You need python\n",
        "'''\n",
        "print(multiline)\n",
        "\n",
        "# 큰따옴표를 3개 사용해도 출력값은 변함없음\n",
        "multiline = \"\"\"\n",
        "Life is too short\n",
        "You need python\n",
        "\"\"\"\n",
        "print(multiline)"
      ],
      "metadata": {
        "colab": {
          "base_uri": "https://localhost:8080/"
        },
        "id": "p7wDdLQxKc1A",
        "outputId": "8d703a5f-2c4a-4a67-bdf5-9d11da9e6a5c"
      },
      "execution_count": 15,
      "outputs": [
        {
          "output_type": "stream",
          "name": "stdout",
          "text": [
            "Python's favorit food is perl.\n",
            "\"Python is very easy.\" he says.\n",
            "Python's favorit food is perl.\n",
            "\"Python is very easy.\" he says.\n",
            "\n",
            "Life is too short\n",
            "You need python\n",
            "\n",
            "\n",
            "Life is too short\n",
            "You need python\n",
            "\n"
          ]
        }
      ]
    },
    {
      "cell_type": "markdown",
      "source": [
        "위에서 백슬래시를 이용한 코드를 이스케이프 코드라고 한다. 자주 사용하는 이스케이프 코드는 아래와 같다."
      ],
      "metadata": {
        "id": "9ksK1J0wNF3y"
      }
    },
    {
      "cell_type": "code",
      "source": [
        "\"\\n 줄바꿈\"\n",
        "\"\\t 탭간격\"\n",
        "\"\\\\ 백슬래쉬\" \n",
        "\"\\' 따옴표\"\n",
        "\"\\\" 큰따옴표\""
      ],
      "metadata": {
        "colab": {
          "base_uri": "https://localhost:8080/",
          "height": 35
        },
        "id": "wswCuXOFNN8Z",
        "outputId": "be067b17-6726-42f6-be4a-7cfd26c8d4dc"
      },
      "execution_count": 16,
      "outputs": [
        {
          "output_type": "execute_result",
          "data": {
            "text/plain": [
              "'\" 큰따옴표'"
            ],
            "application/vnd.google.colaboratory.intrinsic+json": {
              "type": "string"
            }
          },
          "metadata": {},
          "execution_count": 16
        }
      ]
    },
    {
      "cell_type": "markdown",
      "source": [
        "### 1-2-2. 문자열 연산"
      ],
      "metadata": {
        "id": "E3pm_IBJO2Fm"
      }
    },
    {
      "cell_type": "code",
      "source": [
        "# 문자열 더해서 연결하기 (문자열, 문자열)\n",
        "head = \"Python\"\n",
        "tail = \" is fun!\"\n",
        "print(head + tail)\n",
        "\n",
        "# 문자열 곱하기 (문자열, 정수형)\n",
        "print(head * 2)\n",
        "\n",
        "# 문자열 길이 구하기 (여백, 마침표 까지 다 셈에 포함)\n",
        "a = \"Life is too short.\"\n",
        "print(len(a))"
      ],
      "metadata": {
        "colab": {
          "base_uri": "https://localhost:8080/"
        },
        "id": "fuVPlTUBOnqZ",
        "outputId": "853ba590-976d-472f-fd9e-48870c1f5af4"
      },
      "execution_count": 19,
      "outputs": [
        {
          "output_type": "stream",
          "name": "stdout",
          "text": [
            "Python is fun!\n",
            "PythonPython\n",
            "18\n"
          ]
        }
      ]
    },
    {
      "cell_type": "markdown",
      "source": [
        "### 1-2-3.문자열 인덱싱과 슬라이싱"
      ],
      "metadata": {
        "id": "oSeUKMR9P3jx"
      }
    },
    {
      "cell_type": "code",
      "source": [
        "# 인덱싱은 문자열의 문자마다 번호를 (0부터)매기는 것\n",
        "a = \"Life is too short, You need Python!\"\n",
        "print(\"a[0] = \",a[0],\"\\ta[1] = \",a[1],\"\\ta[2] = \",a[2],\"\\ta[3] = \",a[3],\"\\ta[4] = \",a[4])\n",
        "print(\"\\na[-1] = \",a[-1])\n",
        "print(\"\\n\")\n",
        "\n",
        "# 슬라이싱은 문자열의 구역을 나눠주는 것\n",
        "print(a[0:4]) # 끝 번호는 포함 안함\n",
        "print(a[19:]) # 끝 번호를 안채우면 끝까지 출력\n",
        "print(a[0:19]) # 시작 번호를 안채우면 시작부터 출력\n",
        "print(a[:]) # 번호를 안채우면 전부 출력\n",
        "print(a[19:-7]) # 마이너스도 입력 가능"
      ],
      "metadata": {
        "colab": {
          "base_uri": "https://localhost:8080/"
        },
        "id": "99TPVHSlPrnT",
        "outputId": "b2ad9c92-e9a7-4266-bde8-db9bd76d17f8"
      },
      "execution_count": 27,
      "outputs": [
        {
          "output_type": "stream",
          "name": "stdout",
          "text": [
            "a[0] =  L \ta[1] =  i \ta[2] =  f \ta[3] =  e \ta[4] =   \n",
            "\n",
            "a[-1] =  !\n",
            "\n",
            "\n",
            "Life\n",
            "You need Python!\n",
            "Life is too short, \n",
            "Life is too short, You need Python!\n",
            "You need \n"
          ]
        }
      ]
    },
    {
      "cell_type": "markdown",
      "source": [
        "@@@ 문자열의 요소는 변경불가!!"
      ],
      "metadata": {
        "id": "wZzQ6k4bS2my"
      }
    },
    {
      "cell_type": "code",
      "source": [
        "a = \"Pithon\"\n",
        "print('a[1] = \"y\"는 오류가 발생함')\n",
        "\n",
        "# 다른 방법으론 새로운 문자열을 만드는 방법이 있음\n",
        "b= a[:1] + \"y\" + a[2:]\n",
        "print(b)"
      ],
      "metadata": {
        "colab": {
          "base_uri": "https://localhost:8080/"
        },
        "id": "DWuIPufIR99r",
        "outputId": "65c5c184-ff09-4432-f81c-99f8ab72dbd5"
      },
      "execution_count": 29,
      "outputs": [
        {
          "output_type": "stream",
          "name": "stdout",
          "text": [
            "a[1] = \"y\"는 오류가 발생함\n",
            "Python\n"
          ]
        }
      ]
    },
    {
      "cell_type": "markdown",
      "source": [
        "### 1-2-4. 문자열 포매팅"
      ],
      "metadata": {
        "id": "40n8oeqXTgnW"
      }
    },
    {
      "cell_type": "code",
      "source": [
        "# 정수 대입 %d, %정수형\n",
        "num = 3\n",
        "a = \"I eat %d apples.\" %3\n",
        "b = \"I eat %d apples.\" %num\n",
        "c = \"I eat {} apples.\".format(num)\n",
        "print(a,\"\\n\", b,\"\\n\",c)\n",
        "\n",
        "# %f, %소수형\n",
        "a = 3.141592653589793\n",
        "print(\"%0.4f\" %a) #자리수 끊기\n",
        "\n",
        "# 문자열 대입 %s, %모든형\n",
        "c = \"I eat %s apples.\" %\"five\"\n",
        "print(c)\n",
        "\n",
        "# 두개 이상의 값을 넣으려면 괄호로 묶어줘야함\n",
        "d = \"I ate %s apples. So I was sick for %s days.\" %(num, \"five\")\n",
        "print(d)"
      ],
      "metadata": {
        "colab": {
          "base_uri": "https://localhost:8080/"
        },
        "id": "dAIk-tyCTimj",
        "outputId": "cb3cc207-3015-4f3d-dea1-35f7c3f49dda"
      },
      "execution_count": 35,
      "outputs": [
        {
          "output_type": "stream",
          "name": "stdout",
          "text": [
            "I eat 3 apples. \n",
            " I eat 3 apples. \n",
            " I eat 3 apples.\n",
            "3.1416\n",
            "I eat five apples.\n",
            "I ate 3 apples. So I was sick for five days.\n"
          ]
        }
      ]
    },
    {
      "cell_type": "markdown",
      "source": [
        "f문자열 포매팅"
      ],
      "metadata": {
        "id": "gKlhpD2KXK7v"
      }
    },
    {
      "cell_type": "code",
      "source": [
        "age = 30\n",
        "a = f\"나는 내년이면 {age+1}살 이다.\"\n",
        "print(a)\n",
        "\n",
        "pi = 3.141592653589793\n",
        "b = f\"원주율을 소수점 4째자리까지 나타내면 {pi:0.4f}이다.\"\n",
        "print(b)\n",
        "c = f\"pi를 소수점 4째자리까지 나타내면 {pi:0.4f}이다.\"\n",
        "print(c)"
      ],
      "metadata": {
        "colab": {
          "base_uri": "https://localhost:8080/"
        },
        "id": "CQ-ELRN4W8sC",
        "outputId": "dd0ed670-1462-4f6b-8660-8a6c7f80a51e"
      },
      "execution_count": 39,
      "outputs": [
        {
          "output_type": "stream",
          "name": "stdout",
          "text": [
            "나는 내년이면 31살 이다.\n",
            "원주율을 소수점 4째자리까지 나타내면 3.1416이다.\n",
            "pi를 소수점 4째자리까지 나타내면 3.1416이다.\n"
          ]
        }
      ]
    },
    {
      "cell_type": "markdown",
      "source": [
        "### 1-2-5. 문자열 관련 함수들"
      ],
      "metadata": {
        "id": "Yc9jD_vxYLqt"
      }
    },
    {
      "cell_type": "code",
      "source": [
        "a = \"hobby\"\n",
        "print(\".count() 해당 문자 개수 세기\")\n",
        "print(\"b의 개수 세기\", a.count(\"b\"))\n",
        "\n",
        "print(\".find() 해당 문자 위치 찾기\")\n",
        "print(\"b의 위치를 인덱스로 표현\", a.find(\"b\"))\n",
        "print(\"k가 없으면 -1을 반환\", a.find(\"k\"))\n",
        "print(\".index() 해당 문자 위치 찾기\")\n",
        "print(\"b의 위치를 인덱스로 표현\", a.index(\"b\"))\n",
        "\n",
        "print(\".join() 앞의 문자를 해당 문자열 사이사이에 넣기\")\n",
        "print(\",\".join(\"abcd\"))\n",
        "\n",
        "print(\".lower() 문자열을 소문자로 바꾸기\")\n",
        "print(\"ABCD\".lower())\n",
        "\n",
        "print(\".upper() 문자열을 대문자로 바꾸기\")\n",
        "print(\"abCd\".upper())\n",
        "\n",
        "print(\".lstrip() 왼쪽 공백 지우기\")\n",
        "print(\"    abcd       \".lstrip())\n",
        "\n",
        "print(\".rstrip() 오른쪽 공백 지우기\")\n",
        "print(\"      abcd     \".rstrip())\n",
        "\n",
        "print(\".strip() 양쪽 공백 지우기\")\n",
        "print(\"   abcd    \".strip())\n",
        "\n",
        "print(\".replace(,) 문자열 바꾸기\")\n",
        "a = \"Life is too short.\"\n",
        "a = a.replace(\"Life\", \"The day\")\n",
        "print(a)\n",
        "\n",
        "print(\".split() 문자열 나누기\")\n",
        "print(\"Life is too short.\".split())\n",
        "print(\"a:b:c:d\".split(\":\"))"
      ],
      "metadata": {
        "colab": {
          "base_uri": "https://localhost:8080/"
        },
        "id": "HcFtJohbYO1E",
        "outputId": "b78ed3fe-54d3-422e-a485-d31a15c0e72e"
      },
      "execution_count": 51,
      "outputs": [
        {
          "output_type": "stream",
          "name": "stdout",
          "text": [
            ".count() 해당 문자 개수 세기\n",
            "b의 개수 세기 2\n",
            ".find() 해당 문자 위치 찾기\n",
            "b의 위치를 인덱스로 표현 2\n",
            "k가 없으면 -1을 반환 -1\n",
            ".index() 해당 문자 위치 찾기\n",
            "b의 위치를 인덱스로 표현 2\n",
            ".join() 앞의 문자를 해당 문자열 사이사이에 넣기\n",
            "a,b,c,d\n",
            ".lower() 문자열을 소문자로 바꾸기\n",
            "abcd\n",
            ".upper() 문자열을 대문자로 바꾸기\n",
            "ABCD\n",
            ".lstrip() 왼쪽 공백 지우기\n",
            "abcd       \n",
            ".rstrip() 오른쪽 공백 지우기\n",
            "      abcd\n",
            ".strip() 양쪽 공백 지우기\n",
            "abcd\n",
            ".replace(,) 문자열 바꾸기\n",
            "The day is too short.\n",
            ".split() 문자열 나누기\n",
            "['Life', 'is', 'too', 'short.']\n",
            "['a', 'b', 'c', 'd']\n"
          ]
        }
      ]
    },
    {
      "cell_type": "markdown",
      "source": [
        "## 1-3. 리스트 자료형"
      ],
      "metadata": {
        "id": "KVXuEtr4cEhD"
      }
    },
    {
      "cell_type": "markdown",
      "source": [
        "### 1-3-1. 리스트 연산"
      ],
      "metadata": {
        "id": "RLgmXGITcI2I"
      }
    },
    {
      "cell_type": "code",
      "source": [
        "a = [1,2,3]\n",
        "b = [4,5,6]\n",
        "print(a+b)\n",
        "print(a+b*3)"
      ],
      "metadata": {
        "colab": {
          "base_uri": "https://localhost:8080/"
        },
        "id": "RGFvCVsQYzaW",
        "outputId": "2fcaf341-e808-4d1a-ff64-e69c07802d6e"
      },
      "execution_count": 54,
      "outputs": [
        {
          "output_type": "stream",
          "name": "stdout",
          "text": [
            "[1, 2, 3, 4, 5, 6]\n",
            "[1, 2, 3, 4, 5, 6, 4, 5, 6, 4, 5, 6]\n"
          ]
        }
      ]
    },
    {
      "cell_type": "markdown",
      "source": [
        "### 1-3-2. 리스트 수정"
      ],
      "metadata": {
        "id": "xVQEX3sJcg1v"
      }
    },
    {
      "cell_type": "code",
      "source": [
        "a = [1,2,3]\n",
        "a[1]=4\n",
        "print(a)\n",
        "\n",
        "b= [4,5,6,7,9]\n",
        "del b[1]\n",
        "print(b)\n",
        "\n",
        "print(b.pop()) # 맨마지막 원소를 출력하고 리스트에서 제거\n",
        "print(b)\n",
        "\n",
        "print(b.pop(1)) # 인덱스로 원소 지정도 가능\n",
        "print(b)\n",
        "\n",
        "b.append(8)\n",
        "print(b)\n",
        "\n",
        "b.insert(1,10)  # 인덱스 1번째에 10을 삽입\n",
        "print(b)\n",
        "\n",
        "a=[1,4,2,3]\n",
        "a.sort()\n",
        "print(a)\n",
        "\n",
        "b = [1,4,2,3]\n",
        "b.reverse()\n",
        "print(b)\n",
        "\n",
        "print(b.index(4))\n",
        "\n",
        "b.remove(4) # 여러개의 4가 있을때는 제일 처음 등장하는 4만 제거\n",
        "print(b)\n",
        "\n",
        "a = [1,2,3]\n",
        "b = [4,5,6]\n",
        "print(a+b)  # 리스트 a는 원본 유지\n",
        "a.extend(b) # 리스트 a의 원본 유지가 안됨, 하지만 b는 됨\n",
        "print(a)\n",
        "print(b)\n"
      ],
      "metadata": {
        "colab": {
          "base_uri": "https://localhost:8080/"
        },
        "id": "Ic2_848GcnAp",
        "outputId": "98d8fc40-7880-471b-e663-32aecf1d2bdb"
      },
      "execution_count": 70,
      "outputs": [
        {
          "output_type": "stream",
          "name": "stdout",
          "text": [
            "[1, 4, 3]\n",
            "[4, 6, 7, 9]\n",
            "9\n",
            "[4, 6, 7]\n",
            "6\n",
            "[4, 7]\n",
            "[4, 7, 8]\n",
            "[4, 10, 7, 8]\n",
            "[1, 2, 3, 4]\n",
            "[3, 2, 4, 1]\n",
            "2\n",
            "[3, 2, 1]\n",
            "[1, 2, 3, 4, 5, 6]\n",
            "[1, 2, 3, 4, 5, 6]\n",
            "[4, 5, 6]\n"
          ]
        }
      ]
    },
    {
      "cell_type": "markdown",
      "source": [
        "튜플도 리스트 처럼 다룰 수는 있지만 요소를 수정하는 것은 안됨"
      ],
      "metadata": {
        "id": "G_cI5ogSf-i1"
      }
    },
    {
      "cell_type": "markdown",
      "source": [
        "## 1-4. 딕셔너리 자료형"
      ],
      "metadata": {
        "id": "nMYRh0VfgSPn"
      }
    },
    {
      "cell_type": "code",
      "source": [
        "dic = {'name':['pey','john'], 'phone':['0119993323',\"08099729004\"], 'birth': ['1118',\"0830\"]}\n",
        "dic"
      ],
      "metadata": {
        "colab": {
          "base_uri": "https://localhost:8080/"
        },
        "id": "RK9bhiY9fAUH",
        "outputId": "623636eb-0f12-413b-a121-88b997b9934a"
      },
      "execution_count": 83,
      "outputs": [
        {
          "output_type": "execute_result",
          "data": {
            "text/plain": [
              "{'name': ['pey', 'john'],\n",
              " 'phone': ['0119993323', '08099729004'],\n",
              " 'birth': ['1118', '0830']}"
            ]
          },
          "metadata": {},
          "execution_count": 83
        }
      ]
    },
    {
      "cell_type": "code",
      "source": [
        "import pandas as pd\n",
        "df = pd.DataFrame(dic)\n",
        "df"
      ],
      "metadata": {
        "colab": {
          "base_uri": "https://localhost:8080/",
          "height": 112
        },
        "id": "MWoTJiukgyIC",
        "outputId": "b71c7572-8897-443c-e627-a466d29d6f24"
      },
      "execution_count": 76,
      "outputs": [
        {
          "output_type": "execute_result",
          "data": {
            "text/plain": [
              "   name        phone birth\n",
              "0   pey   0119993323  1118\n",
              "1  john  08099729004  0830"
            ],
            "text/html": [
              "\n",
              "  <div id=\"df-30eb341b-ef6e-4f29-a6d9-7445e102dc1a\">\n",
              "    <div class=\"colab-df-container\">\n",
              "      <div>\n",
              "<style scoped>\n",
              "    .dataframe tbody tr th:only-of-type {\n",
              "        vertical-align: middle;\n",
              "    }\n",
              "\n",
              "    .dataframe tbody tr th {\n",
              "        vertical-align: top;\n",
              "    }\n",
              "\n",
              "    .dataframe thead th {\n",
              "        text-align: right;\n",
              "    }\n",
              "</style>\n",
              "<table border=\"1\" class=\"dataframe\">\n",
              "  <thead>\n",
              "    <tr style=\"text-align: right;\">\n",
              "      <th></th>\n",
              "      <th>name</th>\n",
              "      <th>phone</th>\n",
              "      <th>birth</th>\n",
              "    </tr>\n",
              "  </thead>\n",
              "  <tbody>\n",
              "    <tr>\n",
              "      <th>0</th>\n",
              "      <td>pey</td>\n",
              "      <td>0119993323</td>\n",
              "      <td>1118</td>\n",
              "    </tr>\n",
              "    <tr>\n",
              "      <th>1</th>\n",
              "      <td>john</td>\n",
              "      <td>08099729004</td>\n",
              "      <td>0830</td>\n",
              "    </tr>\n",
              "  </tbody>\n",
              "</table>\n",
              "</div>\n",
              "      <button class=\"colab-df-convert\" onclick=\"convertToInteractive('df-30eb341b-ef6e-4f29-a6d9-7445e102dc1a')\"\n",
              "              title=\"Convert this dataframe to an interactive table.\"\n",
              "              style=\"display:none;\">\n",
              "        \n",
              "  <svg xmlns=\"http://www.w3.org/2000/svg\" height=\"24px\"viewBox=\"0 0 24 24\"\n",
              "       width=\"24px\">\n",
              "    <path d=\"M0 0h24v24H0V0z\" fill=\"none\"/>\n",
              "    <path d=\"M18.56 5.44l.94 2.06.94-2.06 2.06-.94-2.06-.94-.94-2.06-.94 2.06-2.06.94zm-11 1L8.5 8.5l.94-2.06 2.06-.94-2.06-.94L8.5 2.5l-.94 2.06-2.06.94zm10 10l.94 2.06.94-2.06 2.06-.94-2.06-.94-.94-2.06-.94 2.06-2.06.94z\"/><path d=\"M17.41 7.96l-1.37-1.37c-.4-.4-.92-.59-1.43-.59-.52 0-1.04.2-1.43.59L10.3 9.45l-7.72 7.72c-.78.78-.78 2.05 0 2.83L4 21.41c.39.39.9.59 1.41.59.51 0 1.02-.2 1.41-.59l7.78-7.78 2.81-2.81c.8-.78.8-2.07 0-2.86zM5.41 20L4 18.59l7.72-7.72 1.47 1.35L5.41 20z\"/>\n",
              "  </svg>\n",
              "      </button>\n",
              "      \n",
              "  <style>\n",
              "    .colab-df-container {\n",
              "      display:flex;\n",
              "      flex-wrap:wrap;\n",
              "      gap: 12px;\n",
              "    }\n",
              "\n",
              "    .colab-df-convert {\n",
              "      background-color: #E8F0FE;\n",
              "      border: none;\n",
              "      border-radius: 50%;\n",
              "      cursor: pointer;\n",
              "      display: none;\n",
              "      fill: #1967D2;\n",
              "      height: 32px;\n",
              "      padding: 0 0 0 0;\n",
              "      width: 32px;\n",
              "    }\n",
              "\n",
              "    .colab-df-convert:hover {\n",
              "      background-color: #E2EBFA;\n",
              "      box-shadow: 0px 1px 2px rgba(60, 64, 67, 0.3), 0px 1px 3px 1px rgba(60, 64, 67, 0.15);\n",
              "      fill: #174EA6;\n",
              "    }\n",
              "\n",
              "    [theme=dark] .colab-df-convert {\n",
              "      background-color: #3B4455;\n",
              "      fill: #D2E3FC;\n",
              "    }\n",
              "\n",
              "    [theme=dark] .colab-df-convert:hover {\n",
              "      background-color: #434B5C;\n",
              "      box-shadow: 0px 1px 3px 1px rgba(0, 0, 0, 0.15);\n",
              "      filter: drop-shadow(0px 1px 2px rgba(0, 0, 0, 0.3));\n",
              "      fill: #FFFFFF;\n",
              "    }\n",
              "  </style>\n",
              "\n",
              "      <script>\n",
              "        const buttonEl =\n",
              "          document.querySelector('#df-30eb341b-ef6e-4f29-a6d9-7445e102dc1a button.colab-df-convert');\n",
              "        buttonEl.style.display =\n",
              "          google.colab.kernel.accessAllowed ? 'block' : 'none';\n",
              "\n",
              "        async function convertToInteractive(key) {\n",
              "          const element = document.querySelector('#df-30eb341b-ef6e-4f29-a6d9-7445e102dc1a');\n",
              "          const dataTable =\n",
              "            await google.colab.kernel.invokeFunction('convertToInteractive',\n",
              "                                                     [key], {});\n",
              "          if (!dataTable) return;\n",
              "\n",
              "          const docLinkHtml = 'Like what you see? Visit the ' +\n",
              "            '<a target=\"_blank\" href=https://colab.research.google.com/notebooks/data_table.ipynb>data table notebook</a>'\n",
              "            + ' to learn more about interactive tables.';\n",
              "          element.innerHTML = '';\n",
              "          dataTable['output_type'] = 'display_data';\n",
              "          await google.colab.output.renderOutput(dataTable, element);\n",
              "          const docLink = document.createElement('div');\n",
              "          docLink.innerHTML = docLinkHtml;\n",
              "          element.appendChild(docLink);\n",
              "        }\n",
              "      </script>\n",
              "    </div>\n",
              "  </div>\n",
              "  "
            ]
          },
          "metadata": {},
          "execution_count": 76
        }
      ]
    },
    {
      "cell_type": "code",
      "source": [
        "del dic[\"phone\"]\n",
        "print(dic)\n",
        "\n",
        "print(dic.keys())\n",
        "print(list(dic.keys()))"
      ],
      "metadata": {
        "colab": {
          "base_uri": "https://localhost:8080/"
        },
        "id": "m4aEvDTwhaPy",
        "outputId": "5c2b326f-8338-43fc-be1e-779abcc696e4"
      },
      "execution_count": 84,
      "outputs": [
        {
          "output_type": "stream",
          "name": "stdout",
          "text": [
            "{'name': ['pey', 'john'], 'birth': ['1118', '0830']}\n",
            "dict_keys(['name', 'birth'])\n",
            "['name', 'birth']\n"
          ]
        }
      ]
    },
    {
      "cell_type": "code",
      "source": [
        "print(dic.values())\n",
        "print(dic.items())"
      ],
      "metadata": {
        "colab": {
          "base_uri": "https://localhost:8080/"
        },
        "id": "WGaD6XZEiOnB",
        "outputId": "f3b4ec79-6513-4e23-e5ea-d63f0e72b5c5"
      },
      "execution_count": 86,
      "outputs": [
        {
          "output_type": "stream",
          "name": "stdout",
          "text": [
            "dict_values([['pey', 'john'], ['1118', '0830']])\n",
            "dict_items([('name', ['pey', 'john']), ('birth', ['1118', '0830'])])\n"
          ]
        }
      ]
    },
    {
      "cell_type": "code",
      "source": [
        "dic.clear()\n",
        "print(dic)"
      ],
      "metadata": {
        "colab": {
          "base_uri": "https://localhost:8080/"
        },
        "id": "E60lflx_ia97",
        "outputId": "22fe2991-6e78-440d-b7d1-2d45ec342815"
      },
      "execution_count": 87,
      "outputs": [
        {
          "output_type": "stream",
          "name": "stdout",
          "text": [
            "{}\n"
          ]
        }
      ]
    },
    {
      "cell_type": "code",
      "source": [
        "dic = {'name':['pey','john'], 'phone':['0119993323',\"08099729004\"], 'birth': ['1118',\"0830\"]}\n",
        "print(dic[\"name\"])\n",
        "print(dic.get(\"name\"))\n",
        "# 똑같은 함수 같지만 오류를 안내는 점이 다름\n",
        "\n",
        "# print(dic[\"jon\"]) 오류 발생\n",
        "print(dic.get(\"jon\"))"
      ],
      "metadata": {
        "colab": {
          "base_uri": "https://localhost:8080/"
        },
        "id": "YrI3rQjEifql",
        "outputId": "c59138d0-9708-40d8-c2f3-683a72ca7489"
      },
      "execution_count": 90,
      "outputs": [
        {
          "output_type": "stream",
          "name": "stdout",
          "text": [
            "['pey', 'john']\n",
            "['pey', 'john']\n",
            "None\n"
          ]
        }
      ]
    },
    {
      "cell_type": "markdown",
      "source": [
        "##1-5. 집합 자료형"
      ],
      "metadata": {
        "id": "Y_SDGJu8jSZL"
      }
    },
    {
      "cell_type": "markdown",
      "source": [
        "집합 자료형의 특징 : 중복이 없음, 순서가 없음"
      ],
      "metadata": {
        "id": "9Rwk7f4VjpO_"
      }
    },
    {
      "cell_type": "code",
      "source": [
        "s1 = set([1,2,3])\n",
        "print(s1)\n",
        "\n",
        "s2 = set(\"Hello\")\n",
        "print(s2)\n"
      ],
      "metadata": {
        "colab": {
          "base_uri": "https://localhost:8080/"
        },
        "id": "O9NfIJkRjUl3",
        "outputId": "375fa563-ef66-4a9f-be2d-28b4a4210fd7"
      },
      "execution_count": 91,
      "outputs": [
        {
          "output_type": "stream",
          "name": "stdout",
          "text": [
            "{1, 2, 3}\n",
            "{'o', 'l', 'e', 'H'}\n"
          ]
        }
      ]
    },
    {
      "cell_type": "markdown",
      "source": [
        "###1-5-1. 교집합, 차집합, 합집합"
      ],
      "metadata": {
        "id": "eASHp-UDj4Ti"
      }
    },
    {
      "cell_type": "code",
      "source": [
        "s1 = set([1, 2, 3, 4, 5, 6])\n",
        "s2 = set([4, 5, 6, 7, 8, 9])\n",
        "\n",
        "# 교집합\n",
        "print(s1 & s2)\n",
        "print(s1.intersection(s2))\n",
        "\n",
        "# 합집합\n",
        "print(s1 | s2)\n",
        "print(s1.union(s2))\n",
        "\n",
        "# 차집합\n",
        "print(s1 - s2)\n",
        "print(s2 - s1)"
      ],
      "metadata": {
        "colab": {
          "base_uri": "https://localhost:8080/"
        },
        "id": "RLXj5Y2Xj9XS",
        "outputId": "7be934f0-075b-4b2e-8298-a8ed796a7911"
      },
      "execution_count": 95,
      "outputs": [
        {
          "output_type": "stream",
          "name": "stdout",
          "text": [
            "{4, 5, 6}\n",
            "{4, 5, 6}\n",
            "{1, 2, 3, 4, 5, 6, 7, 8, 9}\n",
            "{1, 2, 3, 4, 5, 6, 7, 8, 9}\n",
            "{1, 2, 3}\n",
            "{8, 9, 7}\n"
          ]
        }
      ]
    },
    {
      "cell_type": "markdown",
      "source": [
        "### 1-5-2. 집합 자료형 관련 함수"
      ],
      "metadata": {
        "id": "OGunHzXFkrHV"
      }
    },
    {
      "cell_type": "code",
      "source": [
        "# add  1개의 값 추가\n",
        "s1 = set([1,2,3])\n",
        "s1.add(4)\n",
        "print(s1)\n",
        "\n",
        "# update 여러개의 값 추가\n",
        "s1.update([5,6,7])\n",
        "print(s1)\n",
        "\n",
        "# remove 특정값 제거\n",
        "s1.remove(2)\n",
        "print(s1)"
      ],
      "metadata": {
        "colab": {
          "base_uri": "https://localhost:8080/"
        },
        "id": "O87wtU0nkezM",
        "outputId": "17c123b9-441c-47de-c773-5a0309beb2fc"
      },
      "execution_count": 98,
      "outputs": [
        {
          "output_type": "stream",
          "name": "stdout",
          "text": [
            "{1, 2, 3, 4}\n",
            "{1, 2, 3, 4, 5, 6, 7}\n",
            "{1, 3, 4, 5, 6, 7}\n"
          ]
        }
      ]
    }
  ]
}